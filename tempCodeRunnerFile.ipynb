your_name = input ("What is your name?")
agents = int(input("number of agents"))
others = input("other people:")

list_names = others.split(" ")
print(list_names)

list_names = list_names.append(your_name)
print(list_names)