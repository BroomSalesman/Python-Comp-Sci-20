{
 "cells": [
  {
   "attachments": {},
   "cell_type": "markdown",
   "metadata": {},
   "source": [
    "March 31, 2022 Follow Along #1"
   ]
  },
  {
   "cell_type": "code",
   "execution_count": 4,
   "metadata": {},
   "outputs": [
    {
     "name": "stdout",
     "output_type": "stream",
     "text": [
      "Nope\n"
     ]
    }
   ],
   "source": [
    "rainy = True\n",
    "cold = False\n",
    "snowy = True\n",
    "\n",
    "if rainy == False or cold == True and snowy == True:\n",
    "        print(\"Yup\")\n",
    "\n",
    "else:\n",
    "    print(\"Nope\")\n",
    "    "
   ]
  },
  {
   "attachments": {},
   "cell_type": "markdown",
   "metadata": {},
   "source": [
    "April 3rd, 2022 Pentagon Using Turtle"
   ]
  },
  {
   "cell_type": "code",
   "execution_count": 5,
   "metadata": {},
   "outputs": [
    {
     "ename": "TclError",
     "evalue": "invalid command name \".!canvas\"",
     "output_type": "error",
     "traceback": [
      "\u001b[1;31m---------------------------------------------------------------------------\u001b[0m",
      "\u001b[1;31mTclError\u001b[0m                                  Traceback (most recent call last)",
      "Cell \u001b[1;32mIn[5], line 10\u001b[0m\n\u001b[0;32m      7\u001b[0m turtle\u001b[39m.\u001b[39mcolor(\u001b[39m\"\u001b[39m\u001b[39mLime\u001b[39m\u001b[39m\"\u001b[39m)\n\u001b[0;32m      9\u001b[0m \u001b[39mfor\u001b[39;00m i \u001b[39min\u001b[39;00m \u001b[39mrange\u001b[39m (\u001b[39m5\u001b[39m):\n\u001b[1;32m---> 10\u001b[0m     turtle\u001b[39m.\u001b[39;49mforward(\u001b[39m200\u001b[39;49m)\n\u001b[0;32m     11\u001b[0m     turtle\u001b[39m.\u001b[39mleft(\u001b[39m360\u001b[39m\u001b[39m/\u001b[39m\u001b[39m5\u001b[39m)\n",
      "File \u001b[1;32mc:\\Users\\0802533\\AppData\\Local\\Programs\\Python\\Python311\\Lib\\turtle.py:1638\u001b[0m, in \u001b[0;36mTNavigator.forward\u001b[1;34m(self, distance)\u001b[0m\n\u001b[0;32m   1617\u001b[0m \u001b[39mdef\u001b[39;00m \u001b[39mforward\u001b[39m(\u001b[39mself\u001b[39m, distance):\n\u001b[0;32m   1618\u001b[0m \u001b[39m    \u001b[39m\u001b[39m\"\"\"Move the turtle forward by the specified distance.\u001b[39;00m\n\u001b[0;32m   1619\u001b[0m \n\u001b[0;32m   1620\u001b[0m \u001b[39m    Aliases: forward | fd\u001b[39;00m\n\u001b[1;32m   (...)\u001b[0m\n\u001b[0;32m   1636\u001b[0m \u001b[39m    (-50.00,0.00)\u001b[39;00m\n\u001b[0;32m   1637\u001b[0m \u001b[39m    \"\"\"\u001b[39;00m\n\u001b[1;32m-> 1638\u001b[0m     \u001b[39mself\u001b[39;49m\u001b[39m.\u001b[39;49m_go(distance)\n",
      "File \u001b[1;32mc:\\Users\\0802533\\AppData\\Local\\Programs\\Python\\Python311\\Lib\\turtle.py:1606\u001b[0m, in \u001b[0;36mTNavigator._go\u001b[1;34m(self, distance)\u001b[0m\n\u001b[0;32m   1604\u001b[0m \u001b[39m\u001b[39m\u001b[39m\"\"\"move turtle forward by specified distance\"\"\"\u001b[39;00m\n\u001b[0;32m   1605\u001b[0m ende \u001b[39m=\u001b[39m \u001b[39mself\u001b[39m\u001b[39m.\u001b[39m_position \u001b[39m+\u001b[39m \u001b[39mself\u001b[39m\u001b[39m.\u001b[39m_orient \u001b[39m*\u001b[39m distance\n\u001b[1;32m-> 1606\u001b[0m \u001b[39mself\u001b[39;49m\u001b[39m.\u001b[39;49m_goto(ende)\n",
      "File \u001b[1;32mc:\\Users\\0802533\\AppData\\Local\\Programs\\Python\\Python311\\Lib\\turtle.py:3193\u001b[0m, in \u001b[0;36mRawTurtle._goto\u001b[1;34m(self, end)\u001b[0m\n\u001b[0;32m   3191\u001b[0m     \u001b[39mself\u001b[39m\u001b[39m.\u001b[39m_position \u001b[39m=\u001b[39m start \u001b[39m+\u001b[39m delta \u001b[39m*\u001b[39m n\n\u001b[0;32m   3192\u001b[0m     \u001b[39mif\u001b[39;00m \u001b[39mself\u001b[39m\u001b[39m.\u001b[39m_drawing:\n\u001b[1;32m-> 3193\u001b[0m         screen\u001b[39m.\u001b[39;49m_drawline(\u001b[39mself\u001b[39;49m\u001b[39m.\u001b[39;49mdrawingLineItem,\n\u001b[0;32m   3194\u001b[0m                          (start, \u001b[39mself\u001b[39;49m\u001b[39m.\u001b[39;49m_position),\n\u001b[0;32m   3195\u001b[0m                          \u001b[39mself\u001b[39;49m\u001b[39m.\u001b[39;49m_pencolor, \u001b[39mself\u001b[39;49m\u001b[39m.\u001b[39;49m_pensize, top)\n\u001b[0;32m   3196\u001b[0m     \u001b[39mself\u001b[39m\u001b[39m.\u001b[39m_update()\n\u001b[0;32m   3197\u001b[0m \u001b[39mif\u001b[39;00m \u001b[39mself\u001b[39m\u001b[39m.\u001b[39m_drawing:\n",
      "File \u001b[1;32mc:\\Users\\0802533\\AppData\\Local\\Programs\\Python\\Python311\\Lib\\turtle.py:545\u001b[0m, in \u001b[0;36mTurtleScreenBase._drawline\u001b[1;34m(self, lineitem, coordlist, fill, width, top)\u001b[0m\n\u001b[0;32m    543\u001b[0m         cl\u001b[39m.\u001b[39mappend(x \u001b[39m*\u001b[39m \u001b[39mself\u001b[39m\u001b[39m.\u001b[39mxscale)\n\u001b[0;32m    544\u001b[0m         cl\u001b[39m.\u001b[39mappend(\u001b[39m-\u001b[39my \u001b[39m*\u001b[39m \u001b[39mself\u001b[39m\u001b[39m.\u001b[39myscale)\n\u001b[1;32m--> 545\u001b[0m     \u001b[39mself\u001b[39;49m\u001b[39m.\u001b[39;49mcv\u001b[39m.\u001b[39;49mcoords(lineitem, \u001b[39m*\u001b[39;49mcl)\n\u001b[0;32m    546\u001b[0m \u001b[39mif\u001b[39;00m fill \u001b[39mis\u001b[39;00m \u001b[39mnot\u001b[39;00m \u001b[39mNone\u001b[39;00m:\n\u001b[0;32m    547\u001b[0m     \u001b[39mself\u001b[39m\u001b[39m.\u001b[39mcv\u001b[39m.\u001b[39mitemconfigure(lineitem, fill\u001b[39m=\u001b[39mfill)\n",
      "File \u001b[1;32m<string>:1\u001b[0m, in \u001b[0;36mcoords\u001b[1;34m(self, *args, **kw)\u001b[0m\n",
      "File \u001b[1;32mc:\\Users\\0802533\\AppData\\Local\\Programs\\Python\\Python311\\Lib\\tkinter\\__init__.py:2822\u001b[0m, in \u001b[0;36mCanvas.coords\u001b[1;34m(self, *args)\u001b[0m\n\u001b[0;32m   2818\u001b[0m \u001b[39m\u001b[39m\u001b[39m\"\"\"Return a list of coordinates for the item given in ARGS.\"\"\"\u001b[39;00m\n\u001b[0;32m   2819\u001b[0m \u001b[39m# XXX Should use _flatten on args\u001b[39;00m\n\u001b[0;32m   2820\u001b[0m \u001b[39mreturn\u001b[39;00m [\u001b[39mself\u001b[39m\u001b[39m.\u001b[39mtk\u001b[39m.\u001b[39mgetdouble(x) \u001b[39mfor\u001b[39;00m x \u001b[39min\u001b[39;00m\n\u001b[0;32m   2821\u001b[0m                    \u001b[39mself\u001b[39m\u001b[39m.\u001b[39mtk\u001b[39m.\u001b[39msplitlist(\n\u001b[1;32m-> 2822\u001b[0m            \u001b[39mself\u001b[39;49m\u001b[39m.\u001b[39;49mtk\u001b[39m.\u001b[39;49mcall((\u001b[39mself\u001b[39;49m\u001b[39m.\u001b[39;49m_w, \u001b[39m'\u001b[39;49m\u001b[39mcoords\u001b[39;49m\u001b[39m'\u001b[39;49m) \u001b[39m+\u001b[39;49m args))]\n",
      "\u001b[1;31mTclError\u001b[0m: invalid command name \".!canvas\""
     ]
    }
   ],
   "source": [
    "import turtle\n",
    "\n",
    "canvas = turtle.Screen()\n",
    "canvas.bgcolor(\"Yellow\")\n",
    "turtle = turtle.Turtle()\n",
    "turtle.pensize(3)\n",
    "turtle.color(\"Lime\")\n",
    "\n",
    "for i in range (5):\n",
    "    turtle.forward(200)\n",
    "    turtle.left(360/5)"
   ]
  },
  {
   "attachments": {},
   "cell_type": "markdown",
   "metadata": {},
   "source": [
    "Random Code"
   ]
  },
  {
   "cell_type": "code",
   "execution_count": null,
   "metadata": {},
   "outputs": [],
   "source": [
    "Monkeys = 5\n",
    "Monkeys = str(Monkeys)\n",
    "print(Monkeys + \" little monkeys jumping on the bed.\")\n"
   ]
  },
  {
   "cell_type": "code",
   "execution_count": null,
   "metadata": {},
   "outputs": [],
   "source": [
    "your_name = input (\"What is your name?\")\n",
    "agents = int(input(\"number of agents\"))\n",
    "others = input(\"other people:\")\n",
    "\n",
    "list_names = others.split(\" \")\n",
    "print(list_names)\n",
    "\n",
    "list_names.append(your_name)\n",
    "\n",
    "sorted = sorted(list_names)\n",
    "\n",
    "sets_of_turns = len(list(sorted))"
   ]
  },
  {
   "attachments": {},
   "cell_type": "markdown",
   "metadata": {},
   "source": [
    "April 20, 2023 follow-along: variable scopes"
   ]
  },
  {
   "cell_type": "code",
   "execution_count": null,
   "metadata": {},
   "outputs": [],
   "source": [
    "def say_hi(name):\n",
    "    print(f\"Hello there, {name}\")\n",
    "\n",
    "say_hi(\"Monkey\")\n"
   ]
  },
  {
   "cell_type": "code",
   "execution_count": null,
   "metadata": {},
   "outputs": [],
   "source": [
    "def add_them(number1, number2):\n",
    "    answer = number1 + number2\n",
    "    return answer\n",
    "\n",
    "num = input(\"What's the first number?\")\n",
    "num2 = input(\"What's the second number?\")\n",
    "\n",
    "num = int(num)\n",
    "num2 = int(num2)\n",
    "\n",
    "result = add_them(num, num2)\n",
    "print(result)"
   ]
  },
  {
   "cell_type": "code",
   "execution_count": null,
   "metadata": {},
   "outputs": [
    {
     "name": "stdout",
     "output_type": "stream",
     "text": [
      "that was not a number\n"
     ]
    }
   ],
   "source": [
    "possible_numbers = [1, 2, 3]\n",
    "x = input('Enter a number: 1, 2, or 3')\n",
    "\n",
    "if x.isdigit() == False:\n",
    "    print(\"that was not a number\")\n",
    "\n",
    "else:\n",
    "    print(\"that was a number\")\n",
    "    num = int(x)\n",
    "    if not num in possible_numbers:\n",
    "        print(\"That is not 1, 2, or 3\")\n",
    "    else:\n",
    "        print(f\"You chose {num}\")"
   ]
  },
  {
   "cell_type": "code",
   "execution_count": null,
   "metadata": {},
   "outputs": [
    {
     "name": "stdout",
     "output_type": "stream",
     "text": [
      "Invalid input! Please enter a valid integer.\n",
      "Invalid input! Please enter a valid integer.\n",
      "Invalid input! Please enter a valid integer.\n",
      "Invalid input! Please enter a valid integer.\n",
      "Invalid input! Please enter a valid integer.\n",
      "The number you entered is: 6\n"
     ]
    }
   ],
   "source": [
    "while True:\n",
    "    try:\n",
    "        num = int(input(\"Please enter a number: \"))\n",
    "        break\n",
    "    except ValueError:\n",
    "        print(\"Invalid input! Please enter a valid integer.\")\n",
    "        continue\n",
    "\n",
    "print(\"The number you entered is:\", num)\n"
   ]
  },
  {
   "cell_type": "code",
   "execution_count": null,
   "metadata": {},
   "outputs": [
    {
     "name": "stdout",
     "output_type": "stream",
     "text": [
      "['I', 'have', '2', 'bananas', 'and', '3', 'apples', 'and', 'my', '1st', 'car', 'is', 'a', 'venza.']\n",
      "[0]\n",
      "[0, 0]\n",
      "[0, 0, 2]\n",
      "[0, 0, 2, 0]\n",
      "[0, 0, 2, 0, 0]\n",
      "[0, 0, 2, 0, 0, 3]\n",
      "[0, 0, 2, 0, 0, 3, 0]\n",
      "[0, 0, 2, 0, 0, 3, 0, 0]\n",
      "[0, 0, 2, 0, 0, 3, 0, 0, 0]\n",
      "[0, 0, 2, 0, 0, 3, 0, 0, 0, 0]\n",
      "[0, 0, 2, 0, 0, 3, 0, 0, 0, 0, 0]\n",
      "[0, 0, 2, 0, 0, 3, 0, 0, 0, 0, 0, 0]\n",
      "[0, 0, 2, 0, 0, 3, 0, 0, 0, 0, 0, 0, 0]\n",
      "[0, 0, 2, 0, 0, 3, 0, 0, 0, 0, 0, 0, 0, 0]\n",
      "[0, 0, 2, 0, 0, 3, 0, 0, 0, 0, 0, 0, 0, 0]\n",
      "5\n"
     ]
    }
   ],
   "source": [
    "text = input(\"something here:  \")\n",
    "text = text.split(\"\")\n",
    "numbers = []\n",
    "for i in text:\n",
    "    if i.isnumeric():\n",
    "        numbers.append(int(i))\n",
    "    else:\n",
    "        numbers.append(0)\n",
    "print (sum(numbers))"
   ]
  }
 ],
 "metadata": {
  "kernelspec": {
   "display_name": "Python 3",
   "language": "python",
   "name": "python3"
  },
  "language_info": {
   "codemirror_mode": {
    "name": "ipython",
    "version": 3
   },
   "file_extension": ".py",
   "mimetype": "text/x-python",
   "name": "python",
   "nbconvert_exporter": "python",
   "pygments_lexer": "ipython3",
   "version": "3.11.3"
  },
  "orig_nbformat": 4
 },
 "nbformat": 4,
 "nbformat_minor": 2
}
