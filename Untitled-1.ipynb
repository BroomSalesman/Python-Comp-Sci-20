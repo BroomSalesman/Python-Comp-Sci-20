{
 "cells": [
  {
   "attachments": {},
   "cell_type": "markdown",
   "metadata": {},
   "source": [
    "March 31, 2022 Follow Along #1"
   ]
  },
  {
   "cell_type": "code",
   "execution_count": null,
   "metadata": {},
   "outputs": [],
   "source": [
    "rainy = True\n",
    "cold = False\n",
    "snowy = True\n",
    "\n",
    "if rainy == False or cold == True and snowy == True:\n",
    "        print(\"Yup\")\n",
    "\n",
    "else:\n",
    "    print(\"Nope\")\n",
    "    "
   ]
  },
  {
   "attachments": {},
   "cell_type": "markdown",
   "metadata": {},
   "source": [
    "April 3rd, 2022 Pentagon Using Turtle"
   ]
  },
  {
   "cell_type": "code",
   "execution_count": null,
   "metadata": {},
   "outputs": [],
   "source": [
    "import turtle\n",
    "\n",
    "canvas = turtle.Screen()\n",
    "canvas.bgcolor(\"Yellow\")\n",
    "turtle = turtle.Turtle()\n",
    "turtle.pensize(3)\n",
    "turtle.color(\"Lime\")\n",
    "\n",
    "for i in range (5):\n",
    "    turtle.forward(200)\n",
    "    turtle.left(360/5)"
   ]
  },
  {
   "cell_type": "code",
   "execution_count": 1,
   "metadata": {},
   "outputs": [
    {
     "name": "stdout",
     "output_type": "stream",
     "text": [
      "5 little monkeys jumping on the bed.\n"
     ]
    }
   ],
   "source": [
    "Monkeys = 5\n",
    "Monkeys = str(Monkeys)\n",
    "print(Monkeys + \" little monkeys jumping on the bed.\")"
   ]
  },
  {
   "cell_type": "code",
<<<<<<< HEAD
<<<<<<< HEAD
<<<<<<< HEAD
   "execution_count": 9,
   "metadata": {},
   "outputs": [
    {
     "name": "stdout",
     "output_type": "stream",
     "text": [
      "[0, 1, 2, 3, 4, 5, 6, 7, 8, 9]\n"
     ]
    }
   ],
   "source": [
    "nums = []\n",
    "for i in range (10):\n",
    "    nums.append(i)\n",
    "\n",
    "print (nums)\n",
    "the monkey "
=======
   "execution_count": null,
=======
   "execution_count": 1,
>>>>>>> parent of 20227af (changes)
   "metadata": {},
   "outputs": [
    {
=======
   "execution_count": 1,
   "metadata": {},
   "outputs": [
    {
>>>>>>> parent of 20227af (changes)
     "ename": "ValueError",
     "evalue": "invalid literal for int() with base 10: ''",
     "output_type": "error",
     "traceback": [
      "\u001b[1;31m---------------------------------------------------------------------------\u001b[0m",
      "\u001b[1;31mValueError\u001b[0m                                Traceback (most recent call last)",
      "Cell \u001b[1;32mIn[1], line 2\u001b[0m\n\u001b[0;32m      1\u001b[0m your_name \u001b[39m=\u001b[39m \u001b[39minput\u001b[39m (\u001b[39m\"\u001b[39m\u001b[39mWhat is your name?\u001b[39m\u001b[39m\"\u001b[39m)\n\u001b[1;32m----> 2\u001b[0m agents \u001b[39m=\u001b[39m \u001b[39mint\u001b[39;49m(\u001b[39minput\u001b[39;49m(\u001b[39m\"\u001b[39;49m\u001b[39mnumber of agents\u001b[39;49m\u001b[39m\"\u001b[39;49m))\n\u001b[0;32m      3\u001b[0m others \u001b[39m=\u001b[39m \u001b[39minput\u001b[39m(\u001b[39m\"\u001b[39m\u001b[39mother people:\u001b[39m\u001b[39m\"\u001b[39m)\n\u001b[0;32m      5\u001b[0m list_names \u001b[39m=\u001b[39m others\u001b[39m.\u001b[39msplit(\u001b[39m\"\u001b[39m\u001b[39m \u001b[39m\u001b[39m\"\u001b[39m)\n",
      "\u001b[1;31mValueError\u001b[0m: invalid literal for int() with base 10: ''"
     ]
    }
   ],
   "source": [
    "your_name = input (\"What is your name?\")\n",
    "agents = int(input(\"number of agents\"))\n",
    "others = input(\"other people:\")\n",
    "\n",
    "list_names = others.split(\" \")\n",
    "print(list_names)\n",
    "\n",
    "list_names.append(your_name)\n",
    "\n",
    "sorted = sorted(list_names)\n",
    "\n",
    "sets_of_turns = len(list(sorted))"
   ]
<<<<<<< HEAD
<<<<<<< HEAD
  },
  {
   "attachments": {},
   "cell_type": "markdown",
   "metadata": {},
   "source": [
    "April 20, 2023 follow-along: variable scopes"
   ]
  },
  {
   "cell_type": "code",
   "execution_count": null,
   "metadata": {},
   "outputs": [],
   "source": [
    "def say_hi(name):\n",
    "    print(f\"Hello there, {name}\")\n",
    "\n",
    "say_hi(\"Monkey\")\n"
   ]
  },
  {
   "cell_type": "code",
   "execution_count": 2,
   "metadata": {},
   "outputs": [],
   "source": [
    "def add_them(number1, number2):\n",
    "    answer = number1 + number2\n",
    "    print(answer)\n",
    "\n",
    "num = input(\"What's the first number?\")\n",
    "num2 = input(\"What's the second number?\")\n",
    "\n",
    "num = int(num)\n",
    "num2 = int(num2)\n",
    "\n",
    "result = add_them(num, num2)\n",
    "print(result)"
>>>>>>> 20227aff414adab3817767f0f9ef92fe8fa142c9
   ]
=======
>>>>>>> parent of 20227af (changes)
=======
>>>>>>> parent of 20227af (changes)
  }
 ],
 "metadata": {
  "kernelspec": {
   "display_name": "Python 3",
   "language": "python",
   "name": "python3"
  },
  "language_info": {
   "codemirror_mode": {
    "name": "ipython",
    "version": 3
   },
   "file_extension": ".py",
   "mimetype": "text/x-python",
   "name": "python",
   "nbconvert_exporter": "python",
   "pygments_lexer": "ipython3",
   "version": "3.11.3"
  },
  "orig_nbformat": 4
 },
 "nbformat": 4,
 "nbformat_minor": 2
}
