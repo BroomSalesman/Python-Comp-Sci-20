{
 "cells": [
  {
   "attachments": {},
   "cell_type": "markdown",
   "metadata": {},
   "source": [
    "March 31, 2022 Follow Along #1"
   ]
  },
  {
   "cell_type": "code",
   "execution_count": null,
   "metadata": {},
   "outputs": [],
   "source": [
    "rainy = True\n",
    "cold = False\n",
    "snowy = True\n",
    "\n",
    "if rainy == False or cold == True and snowy == True:\n",
    "        print(\"Yup\")\n",
    "\n",
    "else:\n",
    "    print(\"Nope\")\n",
    "    "
   ]
  },
  {
   "attachments": {},
   "cell_type": "markdown",
   "metadata": {},
   "source": [
    "April 3rd, 2022 Pentagon Using Turtle"
   ]
  },
  {
   "cell_type": "code",
   "execution_count": null,
   "metadata": {},
   "outputs": [],
   "source": [
    "import turtle\n",
    "\n",
    "canvas = turtle.Screen()\n",
    "canvas.bgcolor(\"Yellow\")\n",
    "turtle = turtle.Turtle()\n",
    "turtle.pensize(3)\n",
    "turtle.color(\"Lime\")\n",
    "\n",
    "for i in range (5):\n",
    "    turtle.forward(200)\n",
    "    turtle.left(360/5)"
   ]
  },
  {
   "attachments": {},
   "cell_type": "markdown",
   "metadata": {},
   "source": [
    "Random Code"
   ]
  },
  {
   "cell_type": "code",
   "execution_count": null,
   "metadata": {},
   "outputs": [],
   "source": [
    "Monkeys = 5\n",
    "Monkeys = str(Monkeys)\n",
<<<<<<< HEAD
    "print(Monkeys + \" little monkeys jumping on the bed.\")"
=======
    "print(Monkeys + \" little monkeys jumping on the bed.\")\n"
>>>>>>> 20227aff414adab3817767f0f9ef92fe8fa142c9
   ]
  },
  {
   "cell_type": "code",
<<<<<<< HEAD
   "execution_count": 9,
   "metadata": {},
   "outputs": [
    {
     "name": "stdout",
     "output_type": "stream",
     "text": [
      "[0, 1, 2, 3, 4, 5, 6, 7, 8, 9]\n"
     ]
    }
   ],
   "source": [
    "nums = []\n",
    "for i in range (10):\n",
    "    nums.append(i)\n",
    "\n",
    "print (nums)\n",
    "the monkey "
=======
   "execution_count": null,
   "metadata": {},
   "outputs": [],
   "source": [
    "your_name = input (\"What is your name?\")\n",
    "agents = int(input(\"number of agents\"))\n",
    "others = input(\"other people:\")\n",
    "\n",
    "list_names = others.split(\" \")\n",
    "print(list_names)\n",
    "\n",
    "list_names.append(your_name)\n",
    "\n",
    "sorted = sorted(list_names)\n",
    "\n",
    "sets_of_turns = len(list(sorted))"
   ]
  },
  {
   "attachments": {},
   "cell_type": "markdown",
   "metadata": {},
   "source": [
    "April 20, 2023 follow-along: variable scopes"
   ]
  },
  {
   "cell_type": "code",
   "execution_count": null,
   "metadata": {},
   "outputs": [],
   "source": [
    "def say_hi(name):\n",
    "    print(f\"Hello there, {name}\")\n",
    "\n",
    "say_hi(\"Monkey\")\n"
   ]
  },
  {
   "cell_type": "code",
   "execution_count": 2,
   "metadata": {},
   "outputs": [],
   "source": [
    "def add_them(number1, number2):\n",
    "    answer = number1 + number2\n",
    "    print(answer)\n",
    "\n",
    "num = input(\"What's the first number?\")\n",
    "num2 = input(\"What's the second number?\")\n",
    "\n",
    "num = int(num)\n",
    "num2 = int(num2)\n",
    "\n",
    "result = add_them(num, num2)\n",
    "print(result)"
>>>>>>> 20227aff414adab3817767f0f9ef92fe8fa142c9
   ]
  }
 ],
 "metadata": {
  "kernelspec": {
   "display_name": "Python 3",
   "language": "python",
   "name": "python3"
  },
  "language_info": {
   "codemirror_mode": {
    "name": "ipython",
    "version": 3
   },
   "file_extension": ".py",
   "mimetype": "text/x-python",
   "name": "python",
   "nbconvert_exporter": "python",
   "pygments_lexer": "ipython3",
   "version": "3.11.3"
  },
  "orig_nbformat": 4
 },
 "nbformat": 4,
 "nbformat_minor": 2
}
