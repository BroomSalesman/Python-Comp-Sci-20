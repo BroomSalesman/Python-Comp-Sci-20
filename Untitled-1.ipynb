{
 "cells": [
  {
   "attachments": {},
   "cell_type": "markdown",
   "metadata": {},
   "source": [
    "March 31, 2022 Follow Along #1"
   ]
  },
  {
   "cell_type": "code",
   "execution_count": 7,
   "metadata": {},
   "outputs": [
    {
     "name": "stdout",
     "output_type": "stream",
     "text": [
      "Nope\n",
      "True\n",
      "True\n"
     ]
    }
   ],
   "source": [
    "rainy = True\n",
    "cold = False\n",
    "snowy = True\n",
    "\n",
    "if rainy == False or cold == True and snowy == True:\n",
    "        print(\"Yup\")\n",
    "\n",
    "else:\n",
    "    print(\"Nope\")\n",
    "    "
   ]
  },
  {
   "attachments": {},
   "cell_type": "markdown",
   "metadata": {},
   "source": [
    "April 3rd, 2022 Pentagon Using Turtle"
   ]
  },
  {
   "cell_type": "code",
   "execution_count": null,
   "metadata": {},
   "outputs": [],
   "source": [
    "import turtle as tur\n",
    "\n",
    "canvas = tur.Screen()\n",
    "canvas.bgcolor(\"Yellow\")\n",
    "tur = tur.Turtle()\n",
    "tur.pensize(3)\n",
    "tur.color(\"Lime\")\n",
    "\n",
    "for i in range (5):\n",
    "    tur.forward(200)\n",
    "    tur.left(360/5)\n",
    "    \n"
   ]
  }
 ],
 "metadata": {
  "kernelspec": {
   "display_name": "Python 3",
   "language": "python",
   "name": "python3"
  },
  "language_info": {
   "codemirror_mode": {
    "name": "ipython",
    "version": 3
   },
   "file_extension": ".py",
   "mimetype": "text/x-python",
   "name": "python",
   "nbconvert_exporter": "python",
   "pygments_lexer": "ipython3",
   "version": "3.11.2"
  },
  "orig_nbformat": 4
 },
 "nbformat": 4,
 "nbformat_minor": 2
}
